{
 "cells": [
  {
   "cell_type": "code",
   "execution_count": 1,
   "id": "2f9a0f19-145b-47bd-be68-c88aa600fa82",
   "metadata": {},
   "outputs": [],
   "source": [
    "from tensorflow.keras.models import Sequential"
   ]
  },
  {
   "cell_type": "code",
   "execution_count": 2,
   "id": "10273170-a2a9-49f8-b64d-433889d84e5d",
   "metadata": {},
   "outputs": [],
   "source": [
    "from tensorflow.keras.utils import image_dataset_from_directory"
   ]
  },
  {
   "cell_type": "code",
   "execution_count": 3,
   "id": "fa599a36-3b5c-483c-bee7-7ccd10b1a48a",
   "metadata": {},
   "outputs": [],
   "source": [
    "from tensorflow.keras import layers\n",
    "from tensorflow.keras.layers import Dense, Conv2D, MaxPooling2D, BatchNormalization, Flatten, Dropout, GlobalAveragePooling2D"
   ]
  },
  {
   "cell_type": "code",
   "execution_count": 4,
   "id": "4e2efc1a-37a1-4e76-a8c4-c3aa4e96d268",
   "metadata": {},
   "outputs": [],
   "source": [
    "from tensorflow.keras.optimizers import Adam"
   ]
  },
  {
   "cell_type": "code",
   "execution_count": 5,
   "id": "c34443f6-2a48-4dab-a8b3-e7ad2a2ead6d",
   "metadata": {},
   "outputs": [],
   "source": [
    "from tensorflow.data import AUTOTUNE"
   ]
  },
  {
   "cell_type": "code",
   "execution_count": 6,
   "id": "72e1e9ab",
   "metadata": {},
   "outputs": [],
   "source": [
    "from tensorflow.keras.callbacks import EarlyStopping"
   ]
  },
  {
   "cell_type": "code",
   "execution_count": 7,
   "id": "8577fa2c",
   "metadata": {},
   "outputs": [],
   "source": [
    "from matplotlib import pyplot as plt"
   ]
  },
  {
   "cell_type": "code",
   "execution_count": 8,
   "id": "99df6c96-9553-4126-8cda-53676e1db5f9",
   "metadata": {},
   "outputs": [],
   "source": [
    "from tensorflow.keras.regularizers import l2"
   ]
  },
  {
   "cell_type": "code",
   "execution_count": 9,
   "id": "fb79fe9f-f2d7-48c7-9c6b-25852045562d",
   "metadata": {},
   "outputs": [],
   "source": [
    "import tensorflow as tf"
   ]
  },
  {
   "cell_type": "code",
   "execution_count": 10,
   "id": "7d5c3d46-3c0b-447e-a1e3-6324763b95ea",
   "metadata": {},
   "outputs": [],
   "source": [
    "import numpy as np"
   ]
  },
  {
   "cell_type": "code",
   "execution_count": 11,
   "id": "4baec30f-6a31-4810-b4c2-847053204b46",
   "metadata": {},
   "outputs": [],
   "source": [
    "from tqdm import tqdm"
   ]
  },
  {
   "cell_type": "code",
   "execution_count": 12,
   "id": "1f1db13f-e0ae-435e-8cbc-636818a42042",
   "metadata": {},
   "outputs": [],
   "source": [
    "from sklearn.model_selection import train_test_split"
   ]
  },
  {
   "cell_type": "code",
   "execution_count": 13,
   "id": "e6ac27d1-5cc4-4b63-8cf2-3613051ce1c7",
   "metadata": {},
   "outputs": [],
   "source": [
    "from tensorflow.keras.callbacks import ModelCheckpoint"
   ]
  },
  {
   "cell_type": "code",
   "execution_count": null,
   "id": "3bc7602b-1a70-46f2-ac08-0bbf03d69dc0",
   "metadata": {},
   "outputs": [],
   "source": []
  },
  {
   "cell_type": "code",
   "execution_count": 14,
   "id": "0630b425-6e96-4aba-b397-592fd1330bd3",
   "metadata": {},
   "outputs": [
    {
     "name": "stdout",
     "output_type": "stream",
     "text": [
      "Found 4216 files belonging to 2 classes.\n"
     ]
    }
   ],
   "source": [
    "train_ds = image_dataset_from_directory(\n",
    "    directory = r'dataset\\train',\n",
    "    labels = 'inferred',\n",
    "    label_mode = 'int',\n",
    "    batch_size = 32,\n",
    "    image_size = (168, 168),\n",
    "    shuffle=True\n",
    ")"
   ]
  },
  {
   "cell_type": "code",
   "execution_count": 15,
   "id": "6ba705a2-0388-465b-8e70-428c58d264a2",
   "metadata": {},
   "outputs": [
    {
     "name": "stdout",
     "output_type": "stream",
     "text": [
      "Found 736 files belonging to 2 classes.\n"
     ]
    }
   ],
   "source": [
    "valid_ds = image_dataset_from_directory(\n",
    "    directory = r'dataset\\validation',\n",
    "    labels = 'inferred',\n",
    "    label_mode = 'int',\n",
    "    batch_size = 32,\n",
    "    image_size = (168, 168),\n",
    "    shuffle=True\n",
    ")"
   ]
  },
  {
   "cell_type": "code",
   "execution_count": 16,
   "id": "902d046e-46dd-4264-9b0c-70a7bfbee4d6",
   "metadata": {},
   "outputs": [
    {
     "data": {
      "text/plain": [
       "<BatchDataset element_spec=(TensorSpec(shape=(None, 168, 168, 3), dtype=tf.float32, name=None), TensorSpec(shape=(None,), dtype=tf.int32, name=None))>"
      ]
     },
     "execution_count": 16,
     "metadata": {},
     "output_type": "execute_result"
    }
   ],
   "source": [
    "train_ds"
   ]
  },
  {
   "cell_type": "code",
   "execution_count": null,
   "id": "04541b4b-c305-4f85-b59e-f1d26f286a6c",
   "metadata": {},
   "outputs": [],
   "source": []
  },
  {
   "cell_type": "code",
   "execution_count": 17,
   "id": "67795562-a550-434f-abce-d88f28d87efb",
   "metadata": {},
   "outputs": [],
   "source": [
    "# data_augmentation = Sequential([\n",
    "#     layers.RandomBrightness(factor=0.1),  # change brightness slightly\n",
    "#     layers.RandomContrast(factor=0.1),    # adjust contrast slightly\n",
    "#     layers.GaussianNoise(0.01),           # simulate background noise\n",
    "# ])"
   ]
  },
  {
   "cell_type": "code",
   "execution_count": 18,
   "id": "5d84681a-2615-453b-bda6-254511bd640e",
   "metadata": {},
   "outputs": [],
   "source": [
    "# data_augmentation"
   ]
  },
  {
   "cell_type": "code",
   "execution_count": 19,
   "id": "5b2d9725-7782-4fce-b279-c52048d244bd",
   "metadata": {},
   "outputs": [
    {
     "data": {
      "text/plain": [
       "['gunshot', 'non_gunshot']"
      ]
     },
     "execution_count": 19,
     "metadata": {},
     "output_type": "execute_result"
    }
   ],
   "source": [
    "train_ds.class_names\n"
   ]
  },
  {
   "cell_type": "code",
   "execution_count": 20,
   "id": "43b53e9a",
   "metadata": {},
   "outputs": [],
   "source": [
    "normalization_layer = layers.Rescaling(1./255)\n",
    "\n",
    "train_ds = train_ds.map(lambda x, y: (normalization_layer(x), y))\n",
    "valid_ds = valid_ds.map(lambda x, y: (normalization_layer(x), y))\n"
   ]
  },
  {
   "cell_type": "code",
   "execution_count": 21,
   "id": "cfcddd3c-0293-404a-b1a2-835bcb41607d",
   "metadata": {
    "scrolled": true
   },
   "outputs": [],
   "source": [
    "# train_ds = train_ds.map(lambda x, y: (data_augmentation(x, training=True), y))\n",
    "# train_ds = train_ds.prefetch(buffer_size=AUTOTUNE)\n",
    "# valid_ds = valid_ds.prefetch(buffer_size=AUTOTUNE)"
   ]
  },
  {
   "cell_type": "code",
   "execution_count": null,
   "id": "b966491f-eaf6-42b5-bb0c-a04edeaf072c",
   "metadata": {},
   "outputs": [],
   "source": []
  },
  {
   "cell_type": "code",
   "execution_count": 22,
   "id": "1fdb6ec8-332c-4118-8043-43d1f957cda5",
   "metadata": {},
   "outputs": [],
   "source": [
    "model = Sequential()"
   ]
  },
  {
   "cell_type": "code",
   "execution_count": 23,
   "id": "16a4f0c1-5831-42b5-9e81-ada87745735f",
   "metadata": {},
   "outputs": [],
   "source": [
    "model.add(Conv2D(32, kernel_size=(3,3), padding='valid', activation='relu', input_shape=(168, 168, 3)))\n",
    "# model.add(BatchNormalization())\n",
    "# model.add(MaxPooling2D(pool_size=(2,2), strides=2, padding='valid'))\n",
    "model.add(MaxPooling2D())\n",
    "# model.add(Dropout(0.3))\n",
    "\n",
    "model.add(Conv2D(64, kernel_size=(3,3), padding='valid', activation='relu'))\n",
    "# model.add(BatchNormalization())\n",
    "# model.add(MaxPooling2D(pool_size=(2,2), strides=2, padding='valid'))\n",
    "model.add(MaxPooling2D())\n",
    "# model.add(Dropout(0.3))\n",
    "\n",
    "model.add(Conv2D(128, kernel_size=(3,3), padding='valid', activation='relu'))\n",
    "model.add(BatchNormalization())\n",
    "# model.add(MaxPooling2D(pool_size=(2,2), strides=2, padding='valid'))\n",
    "model.add(MaxPooling2D())\n",
    "# model.add(Dropout(0.3))\n"
   ]
  },
  {
   "cell_type": "code",
   "execution_count": 24,
   "id": "317dad35-293f-48b1-a2d5-b57fede485ab",
   "metadata": {},
   "outputs": [],
   "source": [
    "model.add(Flatten())"
   ]
  },
  {
   "cell_type": "code",
   "execution_count": 25,
   "id": "b36a4ed8-0eee-44e4-a6f7-97f2b008bbc4",
   "metadata": {},
   "outputs": [],
   "source": [
    "model.add(Dense(64, activation='relu', kernel_regularizer=l2(0.001)))\n",
    "model.add(Dropout(0.3))\n",
    "\n",
    "model.add(Dense(32, activation='relu'))\n",
    "model.add(Dropout(0.3))\n",
    "\n",
    "model.add(Dense(1, activation='sigmoid'))"
   ]
  },
  {
   "cell_type": "code",
   "execution_count": 26,
   "id": "51ced409-42f6-4d5d-ae1b-db7c514b5e94",
   "metadata": {},
   "outputs": [
    {
     "name": "stdout",
     "output_type": "stream",
     "text": [
      "Model: \"sequential\"\n",
      "_________________________________________________________________\n",
      " Layer (type)                Output Shape              Param #   \n",
      "=================================================================\n",
      " conv2d (Conv2D)             (None, 166, 166, 32)      896       \n",
      "                                                                 \n",
      " max_pooling2d (MaxPooling2D  (None, 83, 83, 32)       0         \n",
      " )                                                               \n",
      "                                                                 \n",
      " conv2d_1 (Conv2D)           (None, 81, 81, 64)        18496     \n",
      "                                                                 \n",
      " max_pooling2d_1 (MaxPooling  (None, 40, 40, 64)       0         \n",
      " 2D)                                                             \n",
      "                                                                 \n",
      " conv2d_2 (Conv2D)           (None, 38, 38, 128)       73856     \n",
      "                                                                 \n",
      " batch_normalization (BatchN  (None, 38, 38, 128)      512       \n",
      " ormalization)                                                   \n",
      "                                                                 \n",
      " max_pooling2d_2 (MaxPooling  (None, 19, 19, 128)      0         \n",
      " 2D)                                                             \n",
      "                                                                 \n",
      " flatten (Flatten)           (None, 46208)             0         \n",
      "                                                                 \n",
      " dense (Dense)               (None, 64)                2957376   \n",
      "                                                                 \n",
      " dropout (Dropout)           (None, 64)                0         \n",
      "                                                                 \n",
      " dense_1 (Dense)             (None, 32)                2080      \n",
      "                                                                 \n",
      " dropout_1 (Dropout)         (None, 32)                0         \n",
      "                                                                 \n",
      " dense_2 (Dense)             (None, 1)                 33        \n",
      "                                                                 \n",
      "=================================================================\n",
      "Total params: 3,053,249\n",
      "Trainable params: 3,052,993\n",
      "Non-trainable params: 256\n",
      "_________________________________________________________________\n"
     ]
    }
   ],
   "source": [
    "model.summary()"
   ]
  },
  {
   "cell_type": "code",
   "execution_count": 27,
   "id": "1e14e949-7580-4892-b581-b98510f20ed4",
   "metadata": {},
   "outputs": [],
   "source": [
    "adam = Adam(learning_rate=1e-6)"
   ]
  },
  {
   "cell_type": "code",
   "execution_count": 28,
   "id": "6797ca41-c898-4348-a61b-9ab8f9e3a02e",
   "metadata": {},
   "outputs": [],
   "source": [
    "model.compile(optimizer=adam, loss='binary_crossentropy', metrics=['accuracy'])"
   ]
  },
  {
   "cell_type": "code",
   "execution_count": 29,
   "id": "42610262",
   "metadata": {},
   "outputs": [],
   "source": [
    "earlystopping = EarlyStopping(\n",
    "    monitor = 'val_accuracy',\n",
    "    patience = 5,\n",
    "    restore_best_weights=True,\n",
    "    mode='max',\n",
    ")"
   ]
  },
  {
   "cell_type": "code",
   "execution_count": 30,
   "id": "a4ca1ae6-a06d-4878-9008-cf6473f72685",
   "metadata": {},
   "outputs": [
    {
     "name": "stderr",
     "output_type": "stream",
     "text": [
      "Converting train_ds to NumPy: 100%|██████████████████████████████████████████████████| 132/132 [00:09<00:00, 14.48it/s]\n"
     ]
    }
   ],
   "source": [
    "x_list = []\n",
    "y_list = []\n",
    "\n",
    "for images, labels in tqdm(train_ds, desc=\"Converting train_ds to NumPy\"):\n",
    "    x_list.append(images.numpy())\n",
    "    y_list.append(labels.numpy())\n",
    "\n",
    "X = np.concatenate(x_list, axis=0)\n",
    "y = np.concatenate(y_list, axis=0)\n"
   ]
  },
  {
   "cell_type": "code",
   "execution_count": 31,
   "id": "0e4aa790-77dd-4501-91b7-d1d3aee8b0e3",
   "metadata": {},
   "outputs": [
    {
     "data": {
      "text/plain": [
       "4216"
      ]
     },
     "execution_count": 31,
     "metadata": {},
     "output_type": "execute_result"
    }
   ],
   "source": [
    "len(X)"
   ]
  },
  {
   "cell_type": "code",
   "execution_count": 32,
   "id": "5ade2a69-994f-4a05-9576-090d6197ce08",
   "metadata": {},
   "outputs": [
    {
     "name": "stderr",
     "output_type": "stream",
     "text": [
      "Converting X: 100%|██████████████████████████████████████████████████████████████| 4216/4216 [00:01<00:00, 2980.60it/s]\n",
      "\n",
      "KeyboardInterrupt\n",
      "\n"
     ]
    }
   ],
   "source": [
    "X = np.array([x.astype(np.float32) for x in tqdm(X, desc=\"Converting X\")])\n",
    "\n",
    "y = np.array([int(label) for label in tqdm(y, desc=\"Converting y\")])\n"
   ]
  },
  {
   "cell_type": "code",
   "execution_count": null,
   "id": "7ea5862b-d6db-4b62-8fe5-f9587002f4fd",
   "metadata": {},
   "outputs": [],
   "source": []
  },
  {
   "cell_type": "code",
   "execution_count": null,
   "id": "eb6fa694-0334-4c16-9a83-a62281146c6d",
   "metadata": {},
   "outputs": [],
   "source": [
    "print(\"X shape:\", X.shape)\n",
    "print(\"y shape:\", y.shape)\n",
    "print(\"X dtype:\", X.dtype)\n",
    "print(\"y dtype:\", y.dtype)\n"
   ]
  },
  {
   "cell_type": "code",
   "execution_count": null,
   "id": "5e3a86e2-66a4-445f-aad4-9f972db7d771",
   "metadata": {},
   "outputs": [],
   "source": []
  },
  {
   "cell_type": "code",
   "execution_count": null,
   "id": "935b7e87-e0a3-4ecf-96cf-720048876ed7",
   "metadata": {},
   "outputs": [],
   "source": []
  },
  {
   "cell_type": "code",
   "execution_count": null,
   "id": "d62e9629-b398-421e-b50c-7b5a9fce4bae",
   "metadata": {},
   "outputs": [],
   "source": [
    "\n"
   ]
  },
  {
   "cell_type": "code",
   "execution_count": null,
   "id": "fef2275a-6854-4685-8a3b-684fd2b71152",
   "metadata": {},
   "outputs": [],
   "source": [
    "checkpoint = ModelCheckpoint(\n",
    "    filepath=r\"model\\gunshot_model_epoch_{epoch:02d}_acc_{accuracy:.2f}_valacc_{val_accuracy:.2f}.h5\",\n",
    "    monitor='val_accuracy',\n",
    "    verbose=1,\n",
    "    save_best_only=False,\n",
    "    save_weights_only=False,\n",
    "    mode='auto',\n",
    "    save_freq='epoch'\n",
    ")"
   ]
  },
  {
   "cell_type": "code",
   "execution_count": null,
   "id": "546d84dd-bb75-4ce3-bcff-7997ebed0644",
   "metadata": {},
   "outputs": [
    {
     "name": "stdout",
     "output_type": "stream",
     "text": [
      "Epoch 1/10\n",
      " 45/132 [=========>....................] - ETA: 2:30 - loss: 0.8325 - accuracy: 0.5757"
     ]
    }
   ],
   "source": [
    "import tensorflow as tf\n",
    "\n",
    "with tf.device('/CPU:0'):\n",
    "    history = model.fit(X, y, epochs=10, batch_size=32, validation_data=valid_ds, callbacks=[earlystopping, checkpoint])\n"
   ]
  },
  {
   "cell_type": "code",
   "execution_count": 127,
   "id": "ecf37c31-679c-46ec-92d4-02ca6344e4f2",
   "metadata": {},
   "outputs": [
    {
     "ename": "InternalError",
     "evalue": "Failed copying input tensor from /job:localhost/replica:0/task:0/device:CPU:0 to /job:localhost/replica:0/task:0/device:GPU:0 in order to run _EagerConst: Dst tensor is not initialized.",
     "output_type": "error",
     "traceback": [
      "\u001b[1;31m---------------------------------------------------------------------------\u001b[0m",
      "\u001b[1;31mInternalError\u001b[0m                             Traceback (most recent call last)",
      "Cell \u001b[1;32mIn[127], line 1\u001b[0m\n\u001b[1;32m----> 1\u001b[0m history \u001b[38;5;241m=\u001b[39m \u001b[43mmodel\u001b[49m\u001b[38;5;241;43m.\u001b[39;49m\u001b[43mfit\u001b[49m\u001b[43m(\u001b[49m\u001b[43mX_train\u001b[49m\u001b[43m,\u001b[49m\u001b[43m \u001b[49m\u001b[43my_train\u001b[49m\u001b[43m,\u001b[49m\u001b[43m \u001b[49m\u001b[43mepochs\u001b[49m\u001b[38;5;241;43m=\u001b[39;49m\u001b[38;5;241;43m10\u001b[39;49m\u001b[43m,\u001b[49m\u001b[43m \u001b[49m\u001b[43mbatch_size\u001b[49m\u001b[38;5;241;43m=\u001b[39;49m\u001b[38;5;28;43;01mNone\u001b[39;49;00m\u001b[43m,\u001b[49m\u001b[43m \u001b[49m\u001b[43mcallbacks\u001b[49m\u001b[38;5;241;43m=\u001b[39;49m\u001b[43m[\u001b[49m\u001b[43mearlystopping\u001b[49m\u001b[43m]\u001b[49m\u001b[43m,\u001b[49m\u001b[43m \u001b[49m\u001b[43mvalidation_data\u001b[49m\u001b[38;5;241;43m=\u001b[39;49m\u001b[43mvalid_ds\u001b[49m\u001b[43m)\u001b[49m\n",
      "File \u001b[1;32mF:\\camera\\.camera_venv\\lib\\site-packages\\keras\\utils\\traceback_utils.py:70\u001b[0m, in \u001b[0;36mfilter_traceback.<locals>.error_handler\u001b[1;34m(*args, **kwargs)\u001b[0m\n\u001b[0;32m     67\u001b[0m     filtered_tb \u001b[38;5;241m=\u001b[39m _process_traceback_frames(e\u001b[38;5;241m.\u001b[39m__traceback__)\n\u001b[0;32m     68\u001b[0m     \u001b[38;5;66;03m# To get the full stack trace, call:\u001b[39;00m\n\u001b[0;32m     69\u001b[0m     \u001b[38;5;66;03m# `tf.debugging.disable_traceback_filtering()`\u001b[39;00m\n\u001b[1;32m---> 70\u001b[0m     \u001b[38;5;28;01mraise\u001b[39;00m e\u001b[38;5;241m.\u001b[39mwith_traceback(filtered_tb) \u001b[38;5;28;01mfrom\u001b[39;00m\u001b[38;5;250m \u001b[39m\u001b[38;5;28;01mNone\u001b[39;00m\n\u001b[0;32m     71\u001b[0m \u001b[38;5;28;01mfinally\u001b[39;00m:\n\u001b[0;32m     72\u001b[0m     \u001b[38;5;28;01mdel\u001b[39;00m filtered_tb\n",
      "File \u001b[1;32mF:\\camera\\.camera_venv\\lib\\site-packages\\tensorflow\\python\\framework\\constant_op.py:102\u001b[0m, in \u001b[0;36mconvert_to_eager_tensor\u001b[1;34m(value, ctx, dtype)\u001b[0m\n\u001b[0;32m    100\u001b[0m     dtype \u001b[38;5;241m=\u001b[39m dtypes\u001b[38;5;241m.\u001b[39mas_dtype(dtype)\u001b[38;5;241m.\u001b[39mas_datatype_enum\n\u001b[0;32m    101\u001b[0m ctx\u001b[38;5;241m.\u001b[39mensure_initialized()\n\u001b[1;32m--> 102\u001b[0m \u001b[38;5;28;01mreturn\u001b[39;00m \u001b[43mops\u001b[49m\u001b[38;5;241;43m.\u001b[39;49m\u001b[43mEagerTensor\u001b[49m\u001b[43m(\u001b[49m\u001b[43mvalue\u001b[49m\u001b[43m,\u001b[49m\u001b[43m \u001b[49m\u001b[43mctx\u001b[49m\u001b[38;5;241;43m.\u001b[39;49m\u001b[43mdevice_name\u001b[49m\u001b[43m,\u001b[49m\u001b[43m \u001b[49m\u001b[43mdtype\u001b[49m\u001b[43m)\u001b[49m\n",
      "\u001b[1;31mInternalError\u001b[0m: Failed copying input tensor from /job:localhost/replica:0/task:0/device:CPU:0 to /job:localhost/replica:0/task:0/device:GPU:0 in order to run _EagerConst: Dst tensor is not initialized."
     ]
    }
   ],
   "source": [
    "history = model.fit(X_train, y_train, epochs=10, batch_size=None, callbacks=[earlystopping], validation_data=valid_ds)"
   ]
  },
  {
   "cell_type": "code",
   "execution_count": null,
   "id": "591d355a-841a-4497-8f2f-bc6b4b009eab",
   "metadata": {},
   "outputs": [],
   "source": []
  },
  {
   "cell_type": "markdown",
   "id": "117871fa",
   "metadata": {},
   "source": [
    "# Accuracy"
   ]
  },
  {
   "cell_type": "code",
   "execution_count": null,
   "id": "10d21ba3-fc99-4ec8-b654-5275789df269",
   "metadata": {},
   "outputs": [],
   "source": [
    "plt.plot(history.history['accuracy'], label='Training')\n",
    "plt.plot(history.history['val_accuracy'], label='Validation')\n",
    "plt.legend()\n",
    "plt.show"
   ]
  },
  {
   "cell_type": "markdown",
   "id": "bfc17d80",
   "metadata": {},
   "source": [
    "# Loss"
   ]
  },
  {
   "cell_type": "code",
   "execution_count": null,
   "id": "ba7f7eaa",
   "metadata": {},
   "outputs": [],
   "source": [
    "plt.plot(history.history['loss'], label='Training')\n",
    "plt.plot(history.history['val_loss'], label='Validation')\n",
    "plt.legend()\n",
    "plt.show()"
   ]
  },
  {
   "cell_type": "markdown",
   "id": "c3b44261",
   "metadata": {},
   "source": [
    "# Saving Model"
   ]
  },
  {
   "cell_type": "code",
   "execution_count": null,
   "id": "9e9f1efb",
   "metadata": {
    "scrolled": true
   },
   "outputs": [],
   "source": [
    "import tensorflow as tf\n",
    "tf.saved_model.save(model, \"gunshot_model\")\n"
   ]
  },
  {
   "cell_type": "code",
   "execution_count": null,
   "id": "daea73b2",
   "metadata": {},
   "outputs": [],
   "source": [
    "model = tf.saved_model.load(\"gunshot_model\")"
   ]
  },
  {
   "cell_type": "code",
   "execution_count": null,
   "id": "2fe6c206-7ae7-46da-b9ee-549ca16d57ea",
   "metadata": {},
   "outputs": [],
   "source": [
    "model.save('model.h5', save_format='h5')"
   ]
  },
  {
   "cell_type": "markdown",
   "id": "f8605b5c-baa1-4210-8051-fd7b39a67084",
   "metadata": {},
   "source": [
    "# Demo"
   ]
  },
  {
   "cell_type": "code",
   "execution_count": 2,
   "id": "4c3ca95f-0ffc-4787-a4a2-b3bf812ad550",
   "metadata": {},
   "outputs": [],
   "source": [
    "import librosa\n",
    "import librosa.display"
   ]
  },
  {
   "cell_type": "code",
   "execution_count": 3,
   "id": "105469d7-1dd2-4114-9319-d05024a1baaa",
   "metadata": {},
   "outputs": [],
   "source": [
    "from matplotlib import pyplot as plt"
   ]
  },
  {
   "cell_type": "code",
   "execution_count": 4,
   "id": "d4d3190a-5625-40f9-99fe-f2220d47c60c",
   "metadata": {},
   "outputs": [],
   "source": [
    "import numpy as np"
   ]
  },
  {
   "cell_type": "code",
   "execution_count": 5,
   "id": "29cc8a11-6e65-44c8-84d5-a0d52a1737c4",
   "metadata": {},
   "outputs": [],
   "source": [
    "import tensorflow as tf"
   ]
  },
  {
   "cell_type": "code",
   "execution_count": null,
   "id": "5f1d050b-f402-48c3-87d9-b48784b2a5f6",
   "metadata": {},
   "outputs": [],
   "source": []
  },
  {
   "cell_type": "code",
   "execution_count": 18,
   "id": "ac75e5fe-eea3-4524-a15a-79ced321a2aa",
   "metadata": {},
   "outputs": [],
   "source": [
    "from tensorflow.keras.models import load_model\n",
    "model = load_model(\"gunshot_model_epoch_05_acc_0.90_valacc_0.96.h5\") "
   ]
  },
  {
   "cell_type": "code",
   "execution_count": null,
   "id": "70d0e166-8d60-4524-8a1d-9b19db68879b",
   "metadata": {},
   "outputs": [],
   "source": []
  },
  {
   "cell_type": "code",
   "execution_count": 7,
   "id": "b061c5f2-b62d-4da2-8a29-cc7e35aea39d",
   "metadata": {},
   "outputs": [],
   "source": [
    "def audio_to_melspectrogram(audio_path, fixed_length=168):\n",
    "    \"\"\"Extract Mel Spectrogram with a consistent shape (168, 168).\"\"\"\n",
    "    try:\n",
    "        audio, sr = librosa.load(audio_path, sr=22050, mono=True)\n",
    "        n_fft = min(2048, len(audio))  # Ensure valid n_fft\n",
    "\n",
    "        # **Extract Log-Mel Spectrogram**\n",
    "        mel_spectrogram = librosa.feature.melspectrogram(\n",
    "            y=audio, sr=sr, n_fft=n_fft, n_mels=168, fmax=8000\n",
    "        )\n",
    "        mel_db = librosa.power_to_db(mel_spectrogram, ref=np.max)\n",
    "\n",
    "        # **Fix shape to (168, 168)**\n",
    "        if mel_db.shape[1] > fixed_length:\n",
    "            mel_db = mel_db[:, :fixed_length]  # Trim\n",
    "        else:\n",
    "            mel_db = np.pad(mel_db, ((0, 0), (0, fixed_length - mel_db.shape[1])), mode='constant')  # Pad\n",
    "\n",
    "        return mel_db  # Return spectrogram only\n",
    "\n",
    "    except Exception as e:\n",
    "        print(f\"❌ Error processing {audio_path}: {e}\")\n",
    "        return None  # Handle errors gracefully"
   ]
  },
  {
   "cell_type": "code",
   "execution_count": 42,
   "id": "3677a9c7-e44d-4627-95a8-32ec2211712c",
   "metadata": {},
   "outputs": [],
   "source": [
    "def save_spectrogram(mel_spec, save_path):\n",
    "    plt.figure(figsize=(5,5))\n",
    "    librosa.display.specshow(mel_spec, x_axis='time', y_axis=\"mel\")\n",
    "    plt.axis('off') # remove axis\n",
    "    plt.savefig(save_path, bbox_inches=\"tight\", pad_inches=0)\n",
    "    plt.close()"
   ]
  },
  {
   "cell_type": "code",
   "execution_count": null,
   "id": "5e575ba9-3b1d-4743-b725-78af869179a9",
   "metadata": {},
   "outputs": [],
   "source": []
  },
  {
   "cell_type": "code",
   "execution_count": 62,
   "id": "b350879d-e5f5-4e7f-b53d-1c525c9feab6",
   "metadata": {},
   "outputs": [],
   "source": [
    "mel_spec = audio_to_melspectrogram(r\"F:\\camera\\gun shot\\demo.wav\")"
   ]
  },
  {
   "cell_type": "code",
   "execution_count": 63,
   "id": "04a2b22d-4c3e-4888-9417-7e114acb9156",
   "metadata": {},
   "outputs": [],
   "source": [
    "save_spectrogram(mel_spec, '1.png')"
   ]
  },
  {
   "cell_type": "code",
   "execution_count": 64,
   "id": "d9de61bd-58f1-466a-81f1-016e7fe46532",
   "metadata": {},
   "outputs": [],
   "source": [
    "from PIL import Image\n"
   ]
  },
  {
   "cell_type": "code",
   "execution_count": 65,
   "id": "eddef744-428d-46e6-b488-9978f8aa4732",
   "metadata": {},
   "outputs": [],
   "source": [
    "img = Image.open('1.png')"
   ]
  },
  {
   "cell_type": "code",
   "execution_count": 66,
   "id": "c77453a7-85b7-4907-88d0-545e59f4941f",
   "metadata": {},
   "outputs": [
    {
     "data": {
      "image/png": "[encoded data removed]",
      "text/plain": [
       "<PIL.PngImagePlugin.PngImageFile image mode=RGBA size=387x385>"
      ]
     },
     "execution_count": 66,
     "metadata": {},
     "output_type": "execute_result"
    }
   ],
   "source": [
    "img"
   ]
  },
  {
   "cell_type": "code",
   "execution_count": 67,
   "id": "3c9dc8e0-9246-47fe-b55c-d7bf46167052",
   "metadata": {},
   "outputs": [],
   "source": [
    "img_array = np.array(img).astype(\"float32\") / 255.0  # scale if needed\n",
    "img_array = np.expand_dims(img_array, axis=0)  # add batch dimension for prediction\n"
   ]
  },
  {
   "cell_type": "code",
   "execution_count": 68,
   "id": "1a107e0d-36f4-4ba7-bfc9-1e8469d787f9",
   "metadata": {
    "scrolled": true
   },
   "outputs": [],
   "source": [
    "from PIL import Image\n",
    "import numpy as np\n",
    "import tensorflow as tf\n",
    "\n",
    "# Load image and convert to RGB\n",
    "img = Image.open(\"1.png\").convert(\"RGB\").resize((168, 168))\n",
    "img_array = np.array(img).astype(\"float32\") / 255.0\n",
    "img_array = np.expand_dims(img_array, axis=0)\n",
    "img_tensor = tf.convert_to_tensor(img_array, dtype=tf.float32)\n"
   ]
  },
  {
   "cell_type": "code",
   "execution_count": 69,
   "id": "c9914e43-d108-45d2-9776-fa6911823095",
   "metadata": {},
   "outputs": [
    {
     "name": "stdout",
     "output_type": "stream",
     "text": [
      "1/1 [==============================] - 0s 174ms/step\n",
      "Shot: [[0.05633572]]\n"
     ]
    }
   ],
   "source": [
    "model = tf.keras.models.load_model(\"gunshot_model_epoch_05_acc_0.90_valacc_0.96.h5\")\n",
    "output = model.predict(img_array)  # or img_tensor\n",
    "predicted_label = (output > 0.6).astype(int)  # Output: [[1]]\n",
    "if predicted_label[0][0] == 1:\n",
    "     print(f\"No Shot: {output}\")\n",
    "else:\n",
    "    print(f\"Shot: {output}\")\n"
   ]
  },
  {
   "cell_type": "code",
   "execution_count": 70,
   "id": "908ca2ec-967b-4756-931c-1627aa9856d4",
   "metadata": {},
   "outputs": [
    {
     "ename": "SyntaxError",
     "evalue": "unmatched ']' (1019159067.py, line 2)",
     "output_type": "error",
     "traceback": [
      "\u001b[1;36m  Cell \u001b[1;32mIn[70], line 2\u001b[1;36m\u001b[0m\n\u001b[1;33m    [0.46422383]]\u001b[0m\n\u001b[1;37m                ^\u001b[0m\n\u001b[1;31mSyntaxError\u001b[0m\u001b[1;31m:\u001b[0m unmatched ']'\n"
     ]
    }
   ],
   "source": [
    "[[0.522141]]   gun\n",
    " [0.46422383]] "
   ]
  },
  {
   "cell_type": "code",
   "execution_count": null,
   "id": "ac0c6e70-dd49-42ce-a47e-1901c557f202",
   "metadata": {},
   "outputs": [],
   "source": []
  },
  {
   "cell_type": "code",
   "execution_count": 83,
   "id": "ba1512af-2510-4cef-bda6-3b58743cf3fb",
   "metadata": {},
   "outputs": [
    {
     "name": "stdout",
     "output_type": "stream",
     "text": [
      "🎤 Listening for gunshots... Press Ctrl+C to stop.\n",
      "1/1 [==============================] - 0s 75ms/step\n",
      "✅ No gunshot. Confidence: 1.00\n",
      "1/1 [==============================] - 0s 20ms/step\n",
      "✅ No gunshot. Confidence: 1.00\n",
      "1/1 [==============================] - 0s 22ms/step\n",
      "✅ No gunshot. Confidence: 1.00\n",
      "1/1 [==============================] - 0s 21ms/step\n",
      "✅ No gunshot. Confidence: 1.00\n",
      "1/1 [==============================] - 0s 29ms/step\n",
      "✅ No gunshot. Confidence: 1.00\n",
      "1/1 [==============================] - 0s 24ms/step\n",
      "✅ No gunshot. Confidence: 1.00\n",
      "1/1 [==============================] - 0s 21ms/step\n",
      "✅ No gunshot. Confidence: 1.00\n",
      "1/1 [==============================] - 0s 26ms/step\n",
      "✅ No gunshot. Confidence: 1.00\n",
      "1/1 [==============================] - 0s 25ms/step\n",
      "✅ No gunshot. Confidence: 1.00\n",
      "1/1 [==============================] - 0s 27ms/step\n",
      "✅ No gunshot. Confidence: 1.00\n",
      "1/1 [==============================] - 0s 30ms/step\n",
      "✅ No gunshot. Confidence: 1.00\n",
      "1/1 [==============================] - 0s 30ms/step\n",
      "✅ No gunshot. Confidence: 1.00\n",
      "1/1 [==============================] - 0s 30ms/step\n",
      "✅ No gunshot. Confidence: 1.00\n",
      "1/1 [==============================] - 0s 28ms/step\n",
      "✅ No gunshot. Confidence: 1.00\n"
     ]
    },
    {
     "ename": "KeyboardInterrupt",
     "evalue": "",
     "output_type": "error",
     "traceback": [
      "\u001b[1;31m---------------------------------------------------------------------------\u001b[0m",
      "\u001b[1;31mKeyboardInterrupt\u001b[0m                         Traceback (most recent call last)",
      "Cell \u001b[1;32mIn[83], line 44\u001b[0m\n\u001b[0;32m     42\u001b[0m \u001b[38;5;28mprint\u001b[39m(\u001b[38;5;124m\"\u001b[39m\u001b[38;5;124m🎤 Listening for gunshots... Press Ctrl+C to stop.\u001b[39m\u001b[38;5;124m\"\u001b[39m)\n\u001b[0;32m     43\u001b[0m \u001b[38;5;28;01mwhile\u001b[39;00m \u001b[38;5;28;01mTrue\u001b[39;00m:\n\u001b[1;32m---> 44\u001b[0m     \u001b[43mtime\u001b[49m\u001b[38;5;241;43m.\u001b[39;49m\u001b[43msleep\u001b[49m\u001b[43m(\u001b[49m\u001b[38;5;241;43m0.1\u001b[39;49m\u001b[43m)\u001b[49m\n",
      "\u001b[1;31mKeyboardInterrupt\u001b[0m: "
     ]
    }
   ],
   "source": [
    "import sounddevice as sd\n",
    "import numpy as np\n",
    "import librosa\n",
    "import tensorflow as tf\n",
    "import time\n",
    "\n",
    "# Load the model\n",
    "model = tf.keras.models.load_model(\"gunshot_model_epoch_05_acc_0.90_valacc_0.96.h5\")\n",
    "\n",
    "# Parameters\n",
    "SAMPLE_RATE = 22050\n",
    "DURATION = 1  # seconds\n",
    "CHUNK_SIZE = SAMPLE_RATE * DURATION\n",
    "THRESHOLD = 0.6  # confidence threshold\n",
    "\n",
    "def audio_callback(indata, frames, time, status):\n",
    "    if status:\n",
    "        print(status)\n",
    "    audio = indata[:, 0]\n",
    "\n",
    "    mel = librosa.feature.melspectrogram(y=audio, sr=SAMPLE_RATE, n_mels=128)\n",
    "    mel_db = librosa.power_to_db(mel, ref=np.max)\n",
    "\n",
    "    # Convert (H, W) → (H, W, 3)\n",
    "    mel_db = np.stack([mel_db]*3, axis=-1)\n",
    "    mel_db = tf.image.resize(mel_db, (168, 168)).numpy()\n",
    "\n",
    "    # Add batch dimension\n",
    "    mel_db = np.expand_dims(mel_db, axis=0)\n",
    "\n",
    "    # Predict\n",
    "    pred = model.predict(mel_db)[0][0]\n",
    "    if pred > THRESHOLD:\n",
    "        print(f\"✅ No gunshot. Confidence: {pred:.2f}\")\n",
    "        \n",
    "    else:\n",
    "        print(f\"🔫 Gunshot Detected! Confidence: {pred:.2f}\")\n",
    "        \n",
    "\n",
    "# Start streaming\n",
    "with sd.InputStream(callback=audio_callback, channels=1, samplerate=SAMPLE_RATE, blocksize=CHUNK_SIZE):\n",
    "    print(\"🎤 Listening for gunshots... Press Ctrl+C to stop.\")\n",
    "    while True:\n",
    "        time.sleep(0.1)\n"
   ]
  },
  {
   "cell_type": "code",
   "execution_count": null,
   "id": "fdfbbe89-ae87-4725-8b39-9fc2df45fab3",
   "metadata": {},
   "outputs": [],
   "source": []
  }
 ],
 "metadata": {
  "kernelspec": {
   "display_name": ".camera_venv",
   "language": "python",
   "name": ".camera_venv"
  },
  "language_info": {
   "codemirror_mode": {
    "name": "ipython",
    "version": 3
   },
   "file_extension": ".py",
   "mimetype": "text/x-python",
   "name": "python",
   "nbconvert_exporter": "python",
   "pygments_lexer": "ipython3",
   "version": "3.10.6"
  }
 },
 "nbformat": 4,
 "nbformat_minor": 5
}
