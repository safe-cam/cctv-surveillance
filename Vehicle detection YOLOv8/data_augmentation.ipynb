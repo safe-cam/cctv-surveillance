{
 "cells": [
  {
   "cell_type": "code",
   "execution_count": 1,
   "id": "fdc7f6db-5944-471a-86ea-4f137ef09520",
   "metadata": {},
   "outputs": [],
   "source": [
    "import albumentations as A\n",
    "import cv2\n",
    "import os\n",
    "import numpy as np\n",
    "from concurrent.futures import ThreadPoolExecutor\n",
    "from tqdm import tqdm"
   ]
  },
  {
   "cell_type": "code",
   "execution_count": 2,
   "id": "1ffb0a1e-7d3a-484a-b866-5efc8e0190a5",
   "metadata": {},
   "outputs": [],
   "source": [
    "# Augmentations use paraller processing,,,\n",
    "\n",
    "transform = A.Compose([\n",
    "    A.HorizontalFlip(p=0.5),\n",
    "    A.RandomBrightnessContrast(p=0.2),\n",
    "    A.Rotate(limit=30, p=0.5),\n",
    "    A.GaussianBlur(blur_limit=3, p=0.2),\n",
    "], bbox_params=A.BboxParams(format=\"yolo\", label_fields=[\"class_labels\"]))\n"
   ]
  },
  {
   "cell_type": "code",
   "execution_count": 3,
   "id": "2fa7abf3-4905-481a-bf44-78034352c72a",
   "metadata": {},
   "outputs": [],
   "source": [
    "def load_yolo_labels(label_path):\n",
    "    if not os.path.exists(label_path):\n",
    "        return []\n",
    "    with open(label_path, \"r\") as f:\n",
    "        return [list(map(float, line.strip().split())) for line in f.readlines()]"
   ]
  },
  {
   "cell_type": "code",
   "execution_count": 4,
   "id": "78f2c7f5-0223-46ba-b320-9c191cf003b4",
   "metadata": {},
   "outputs": [],
   "source": [
    "def save_yolo_labels(label_path, labels):\n",
    "    with open(label_path, \"w\") as f:\n",
    "        for label in labels:\n",
    "            f.write(\" \".join(map(str, label)) + \"\\n\")"
   ]
  },
  {
   "cell_type": "code",
   "execution_count": 5,
   "id": "9452aa90-8f4d-47f4-8713-9aeff23619a8",
   "metadata": {},
   "outputs": [],
   "source": [
    "def augment_image(image_path, label_path, output_dir):\n",
    "    image = cv2.imread(image_path)\n",
    "    if image is None:\n",
    "        return\n"
   ]
  },
  {
   "cell_type": "code",
   "execution_count": 6,
   "id": "23230d0c-0b54-414e-a022-6decb20352b0",
   "metadata": {},
   "outputs": [],
   "source": [
    "def load_yolo_labels(label_path):\n",
    "    if not os.path.exists(label_path):\n",
    "        return []\n",
    "    with open(label_path, \"r\") as f:\n",
    "        return [list(map(float, line.strip().split())) for line in f.readlines()]"
   ]
  },
  {
   "cell_type": "code",
   "execution_count": 7,
   "id": "6d92747c-16b3-45ec-9ae6-a400f83d1a82",
   "metadata": {},
   "outputs": [],
   "source": [
    "def save_yolo_labels(label_path, labels):\n",
    "    with open(label_path, \"w\") as f:\n",
    "        for label in labels:\n",
    "            f.write(\" \".join(map(str, label)) + \"\\n\")\n",
    "            "
   ]
  },
  {
   "cell_type": "code",
   "execution_count": 11,
   "id": "de045c5d-61b8-49f1-92b6-95bccd61a7f7",
   "metadata": {},
   "outputs": [],
   "source": [
    "def augment_image(image_path, label_path, output_dir):\n",
    "    image = cv2.imread(image_path)\n",
    "    if image is None:\n",
    "        return\n",
    "\n",
    "    h, w = image.shape[:2]\n",
    "    labels = load_yolo_labels(label_path)\n",
    "    if not labels:\n",
    "        return\n",
    "\n",
    "    bboxes = []\n",
    "    class_labels = []\n",
    "    for cls, x, y, bw, bh in labels:\n",
    "        x_min = x - bw / 2\n",
    "        y_min = y - bh / 2\n",
    "        x_max = x + bw / 2\n",
    "        y_max = y + bh / 2\n",
    "\n",
    "        if x_min < 0: \n",
    "            x_min = 0.0\n",
    "        if y_min < 0: \n",
    "            y_min = 0.0\n",
    "        if x_max > 1:\n",
    "            x_max = 1.0\n",
    "        if y_max > 1:\n",
    "            y_max = 1.0\n",
    "\n",
    "        if x_max <= x_min or y_max <= y_min:\n",
    "            print(f\"Skipping invalid bbox: {[x_min, y_min, x_max, y_max]}\")\n",
    "            continue\n",
    "\n",
    "        bboxes.append([x_min, y_min, x_max, y_max])\n",
    "        class_labels.append(cls)\n",
    "\n",
    "    if not bboxes:\n",
    "        return\n",
    "\n",
    "    transform = A.Compose([\n",
    "        A.HorizontalFlip(p=0.5),\n",
    "        A.RandomBrightnessContrast(p=0.2),\n",
    "        A.Rotate(limit=10, p=0.5)\n",
    "    ], bbox_params=A.BboxParams(format='pascal_voc', label_fields=['class_labels']))\n",
    "\n",
    "    os.makedirs(os.path.join(output_dir, \"images\"), exist_ok=True)\n",
    "    os.makedirs(os.path.join(output_dir, \"labels\"), exist_ok=True)\n",
    "\n",
    "    for i in range(3):\n",
    "        augmented = transform(image=image, bboxes=bboxes, class_labels=class_labels)\n",
    "        aug_img = augmented[\"image\"]\n",
    "        aug_bboxes = augmented[\"bboxes\"]\n",
    "\n",
    "        new_labels = []\n",
    "        for bbox, cls in zip(aug_bboxes, class_labels):\n",
    "            x_min, y_min, x_max, y_max = bbox\n",
    "            x_center = (x_min + x_max) / 2\n",
    "            y_center = (y_min + y_max) / 2\n",
    "            bw = x_max - x_min\n",
    "            bh = y_max - y_min\n",
    "            if bw > 0 and bh > 0:\n",
    "                new_labels.append([cls, x_center, y_center, bw, bh])\n",
    "\n",
    "        if not new_labels:\n",
    "            continue\n",
    "\n",
    "        output_image_path = os.path.join(output_dir, \"images\", f\"aug_{i}_{os.path.basename(image_path)}\")\n",
    "        output_label_path = os.path.join(output_dir, \"labels\", f\"aug_{i}_{os.path.basename(label_path)}\")\n",
    "\n",
    "        cv2.imwrite(output_image_path, aug_img)\n",
    "        save_yolo_labels(output_label_path, new_labels)"
   ]
  },
  {
   "cell_type": "code",
   "execution_count": 9,
   "id": "d2e41046-f15d-4e60-a3b5-7b5f9635be35",
   "metadata": {},
   "outputs": [],
   "source": [
    "def process_image(image_file):\n",
    "    image_path = os.path.join(r\"F:\\camera\\Vehicle detection YOLOv8\\dataset-vehicles\\images\\train\", image_file) # images location \n",
    "    \n",
    "    label_path = os.path.join(r\"F:\\camera\\Vehicle detection YOLOv8\\dataset-vehicles\\labels\\train\", image_file.replace(\".jpg\", \".txt\").replace(\".png\", \".txt\"))\n",
    "    augment_image(image_path, label_path, r\"F:\\camera\\Vehicle detection YOLOv8\\delete\")\n"
   ]
  },
  {
   "cell_type": "code",
   "execution_count": 10,
   "id": "c328113a-5210-4070-a741-bda6cf99f0b9",
   "metadata": {},
   "outputs": [
    {
     "name": "stderr",
     "output_type": "stream",
     "text": [
      "  5%|███▋                                                                            | 54/1156 [00:00<00:17, 63.69it/s]"
     ]
    },
    {
     "name": "stdout",
     "output_type": "stream",
     "text": [
      "Skipping invalid bbox: [0.8972222222222224, 0.01796875, 0.9791666666666667, 0.0]\n"
     ]
    },
    {
     "name": "stderr",
     "output_type": "stream",
     "text": [
      "100%|██████████████████████████████████████████████████████████████████████████████| 1156/1156 [00:31<00:00, 36.39it/s]"
     ]
    },
    {
     "name": "stdout",
     "output_type": "stream",
     "text": [
      "Fast Albumentations augmentation completed! 🚀\n"
     ]
    },
    {
     "name": "stderr",
     "output_type": "stream",
     "text": [
      "\n"
     ]
    }
   ],
   "source": [
    "if __name__ == \"__main__\":\n",
    "    os.makedirs(r\"F:\\camera\\Vehicle detection YOLOv8\\delete\\images\", exist_ok=True)\n",
    "    os.makedirs(r\"F:\\camera\\Vehicle detection YOLOv8\\delete\\labels\", exist_ok=True)\n",
    "\n",
    "    image_files = [f for f in os.listdir(r\"F:\\camera\\Vehicle detection YOLOv8\\dataset-vehicles\\images\\train\") if f.endswith((\".jpg\", \".png\"))]\n",
    "\n",
    "    with ThreadPoolExecutor() as executor:\n",
    "        list(tqdm(executor.map(process_image, image_files), total=len(image_files)))\n",
    "\n",
    "    print(\"Fast Albumentations augmentation completed! 🚀\")\n"
   ]
  },
  {
   "cell_type": "code",
   "execution_count": null,
   "id": "4e575486-e80e-42c8-9d04-c68067d67ab7",
   "metadata": {},
   "outputs": [],
   "source": []
  },
  {
   "cell_type": "code",
   "execution_count": null,
   "id": "a0ce701e-36e1-49ac-844e-07d5978a1baa",
   "metadata": {},
   "outputs": [],
   "source": []
  },
  {
   "cell_type": "code",
   "execution_count": null,
   "id": "8663d318-4524-45f5-a948-5c0a520bc6ee",
   "metadata": {},
   "outputs": [],
   "source": []
  }
 ],
 "metadata": {
  "kernelspec": {
   "display_name": ".camera_venv",
   "language": "python",
   "name": ".camera_venv"
  },
  "language_info": {
   "codemirror_mode": {
    "name": "ipython",
    "version": 3
   },
   "file_extension": ".py",
   "mimetype": "text/x-python",
   "name": "python",
   "nbconvert_exporter": "python",
   "pygments_lexer": "ipython3",
   "version": "3.10.6"
  }
 },
 "nbformat": 4,
 "nbformat_minor": 5
}
